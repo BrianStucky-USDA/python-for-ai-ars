{
 "cells": [
  {
   "cell_type": "markdown",
   "id": "71d952d4-a0b8-4d3f-94bf-32815f3b2ab9",
   "metadata": {},
   "source": [
    "<img src='images/Practicum_AI_Logo.white_outline.svg' width=250 alt='Practicum AI logo'> <img src='https://github.com/PracticumAI/practicumai.github.io/blob/main/images/icons/practicumai_python.png?raw=true' align='right' width=50>\n",
    "***\n",
    "\n",
    "# What Went Wrong??\n",
    "\n",
    "Whether it's a typo or trying to solve a complex problem, you are sure to encounter errors when coding! <img src='images/frustrating_error.png' alt='Icon of a person with hand on head and an exclamation point' width=150 align='right'>\n",
    "\n",
    "Mistakes, errors, time solving problems, and unfortunately at times, frustration, are part of coding. Those are also what can lead to great joy when these problems are solved!\n",
    "\n",
    "But, learning to solve problems is also something that can take practice. We will all run into errors. But having resources and experience to solve those erros rather than giving up is critical.\n",
    "\n",
    "This notebook is designed to help lead you through how we solve some common errors. We will look at:\n",
    "\n",
    "* Strategies for interpreting error messages\n",
    "* Online resources for finding help with errors\n",
    "* New possibilities with AI-powered tools to solve errors"
   ]
  },
  {
   "cell_type": "markdown",
   "id": "8786b786-d15a-4e26-b276-6eddeae2f66b",
   "metadata": {},
   "source": [
    "## Common typos\n",
    "\n",
    "Let's start trying to solve some of these errors. Each cell below has code that will generate an error. Can you fix them?"
   ]
  },
  {
   "cell_type": "code",
   "execution_count": 1,
   "id": "2e966e4a-8ee9-4b4f-8824-f5f78e65467f",
   "metadata": {
    "tags": []
   },
   "outputs": [
    {
     "ename": "NameError",
     "evalue": "name 'myvalue' is not defined",
     "output_type": "error",
     "traceback": [
      "\u001b[0;31m---------------------------------------------------------------------------\u001b[0m",
      "\u001b[0;31mNameError\u001b[0m                                 Traceback (most recent call last)",
      "\u001b[0;32m/scratch/local/6763556/ipykernel_32537/406590275.py\u001b[0m in \u001b[0;36m<cell line: 2>\u001b[0;34m()\u001b[0m\n\u001b[1;32m      1\u001b[0m \u001b[0mmy_value\u001b[0m \u001b[0;34m=\u001b[0m \u001b[0;36m5\u001b[0m\u001b[0;34m\u001b[0m\u001b[0;34m\u001b[0m\u001b[0m\n\u001b[0;32m----> 2\u001b[0;31m \u001b[0mprint\u001b[0m\u001b[0;34m(\u001b[0m\u001b[0;34mf'I am storing the value {myvalue}'\u001b[0m\u001b[0;34m)\u001b[0m\u001b[0;34m\u001b[0m\u001b[0;34m\u001b[0m\u001b[0m\n\u001b[0m",
      "\u001b[0;31mNameError\u001b[0m: name 'myvalue' is not defined"
     ]
    }
   ],
   "source": [
    "my_value = 5\n",
    "print(f'I am storing the value {myvalue}')"
   ]
  },
  {
   "cell_type": "code",
   "execution_count": 2,
   "id": "04cd5cc4-47c3-4a32-8f51-c27b4160086c",
   "metadata": {
    "tags": []
   },
   "outputs": [
    {
     "ename": "SyntaxError",
     "evalue": "expected ':' (2739366549.py, line 1)",
     "output_type": "error",
     "traceback": [
      "\u001b[0;36m  File \u001b[0;32m\"/scratch/local/6763556/ipykernel_32537/2739366549.py\"\u001b[0;36m, line \u001b[0;32m1\u001b[0m\n\u001b[0;31m    def print_message()\u001b[0m\n\u001b[0m                       ^\u001b[0m\n\u001b[0;31mSyntaxError\u001b[0m\u001b[0;31m:\u001b[0m expected ':'\n"
     ]
    }
   ],
   "source": [
    "def print_message()\n",
    "    print(\"If this print's you fixed the error!\")"
   ]
  },
  {
   "cell_type": "code",
   "execution_count": 3,
   "id": "d1d07803-3a38-4439-889a-674c7b196c8e",
   "metadata": {
    "tags": []
   },
   "outputs": [
    {
     "ename": "NameError",
     "evalue": "name 'pd' is not defined",
     "output_type": "error",
     "traceback": [
      "\u001b[0;31m---------------------------------------------------------------------------\u001b[0m",
      "\u001b[0;31mNameError\u001b[0m                                 Traceback (most recent call last)",
      "\u001b[0;32m/scratch/local/6763556/ipykernel_32537/616134205.py\u001b[0m in \u001b[0;36m<cell line: 4>\u001b[0;34m()\u001b[0m\n\u001b[1;32m      2\u001b[0m \u001b[0;34m\u001b[0m\u001b[0m\n\u001b[1;32m      3\u001b[0m \u001b[0murl\u001b[0m\u001b[0;34m=\u001b[0m\u001b[0;34m'https://raw.githubusercontent.com/PracticumAI/python-for-ai/main/data/gapminder_all.csv'\u001b[0m \u001b[0;31m# Direct link to the dataset on GitHub\u001b[0m\u001b[0;34m\u001b[0m\u001b[0;34m\u001b[0m\u001b[0m\n\u001b[0;32m----> 4\u001b[0;31m \u001b[0mdf\u001b[0m \u001b[0;34m=\u001b[0m \u001b[0mpd\u001b[0m\u001b[0;34m.\u001b[0m\u001b[0mread_csv\u001b[0m\u001b[0;34m(\u001b[0m\u001b[0murl\u001b[0m\u001b[0;34m)\u001b[0m\u001b[0;34m\u001b[0m\u001b[0;34m\u001b[0m\u001b[0m\n\u001b[0m",
      "\u001b[0;31mNameError\u001b[0m: name 'pd' is not defined"
     ]
    }
   ],
   "source": [
    "import pandas\n",
    "\n",
    "url='https://raw.githubusercontent.com/PracticumAI/python-for-ai/main/data/gapminder_all.csv' # Direct link to the dataset on GitHub\n",
    "df = pd.read_csv(url) "
   ]
  },
  {
   "cell_type": "code",
   "execution_count": null,
   "id": "24c56de3-362d-431e-b08e-40d2bc0e937e",
   "metadata": {},
   "outputs": [],
   "source": []
  }
 ],
 "metadata": {
  "kernelspec": {
   "display_name": "UFRC Python-3.10",
   "language": "python",
   "name": "python3-3.10-ufrc"
  },
  "language_info": {
   "codemirror_mode": {
    "name": "ipython",
    "version": 3
   },
   "file_extension": ".py",
   "mimetype": "text/x-python",
   "name": "python",
   "nbconvert_exporter": "python",
   "pygments_lexer": "ipython3",
   "version": "3.10.5"
  }
 },
 "nbformat": 4,
 "nbformat_minor": 5
}
